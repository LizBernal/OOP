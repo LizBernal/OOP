{
 "cells": [
  {
   "cell_type": "markdown",
   "metadata": {},
   "source": [
    "# Ejercicio 2 de OOP"
   ]
  },
  {
   "cell_type": "markdown",
   "metadata": {},
   "source": [
    "<img src=\"./Diagramas_clases/02_herencia.png\" alt=\"Ex1\" width=\"400\">"
   ]
  },
  {
   "cell_type": "markdown",
   "metadata": {},
   "source": [
    "- **void eat()**: Imprime 'yummy yummy! estoy comiendo'.\n",
    "- **void meow()**:Imprime 'Soy un gato y hago meow'\n",
    "- **void bark()**:Imprime 'Soy un perro y hago woof'"
   ]
  },
  {
   "cell_type": "code",
   "execution_count": 1,
   "metadata": {},
   "outputs": [],
   "source": [
    "class Animal:\n",
    "    def __init__(self,name) :\n",
    "        self.name= name\n",
    "    def eat(self):\n",
    "        print('yummy yummy! estoy comiendo ')\n",
    "class Cat(Animal):\n",
    "    def meow(self):\n",
    "        print(f'soy {self.name} y hago meow!')\n",
    "\n",
    "class Dog(Animal):\n",
    "    def bark(self):\n",
    "        print(f'soy {self.name} y hago woof!')"
   ]
  },
  {
   "cell_type": "code",
   "execution_count": 2,
   "metadata": {},
   "outputs": [
    {
     "name": "stdout",
     "output_type": "stream",
     "text": [
      "soy michu y hago meow!\n",
      "yummy yummy! estoy comiendo \n",
      "soy firulais y hago woof!\n",
      "yummy yummy! estoy comiendo \n"
     ]
    }
   ],
   "source": [
    "michu = Cat('michu')\n",
    "firulais = Dog('firulais')\n",
    "\n",
    "michu.meow()\n",
    "michu.eat()\n",
    "firulais.bark()\n",
    "firulais.eat()"
   ]
  }
 ],
 "metadata": {
  "kernelspec": {
   "display_name": "Python 3",
   "language": "python",
   "name": "python3"
  },
  "language_info": {
   "codemirror_mode": {
    "name": "ipython",
    "version": 3
   },
   "file_extension": ".py",
   "mimetype": "text/x-python",
   "name": "python",
   "nbconvert_exporter": "python",
   "pygments_lexer": "ipython3",
   "version": "3.12.1"
  }
 },
 "nbformat": 4,
 "nbformat_minor": 2
}
