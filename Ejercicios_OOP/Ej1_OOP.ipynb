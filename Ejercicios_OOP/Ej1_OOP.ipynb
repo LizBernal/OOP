{
 "cells": [
  {
   "cell_type": "markdown",
   "metadata": {},
   "source": [
    "# Ejercicio 1 de OOP "
   ]
  },
  {
   "cell_type": "markdown",
   "metadata": {},
   "source": [
    "<img src=\"./Diagramas_clases/01_create_class.png\" alt=\"Ex1\" width=\"400\">"
   ]
  },
  {
   "cell_type": "markdown",
   "metadata": {},
   "source": [
    "- **int id**:Asigna un identificador unico al empleado ´Enploye'\n",
    "- **int new_id**:Variable global de Employe\n",
    "- **void say_id**:Imprime el id de la instancia"
   ]
  },
  {
   "cell_type": "code",
   "execution_count": 1,
   "metadata": {},
   "outputs": [],
   "source": [
    "class Employee:\n",
    "    new_id= 1\n",
    "\n",
    "    def __init__(self, name, age):\n",
    "        self.id =Employee.new_id\n",
    "        self.name = name\n",
    "        self.age = age\n",
    "        Employee.new_id += 1\n",
    "\n",
    "    def say_id(self):\n",
    "        print(f'Mi nombre es {self.name} y mi id es {self.id}') \n",
    "    def say_age(self):\n",
    "            print(f'mi edad es{self.age}')\n",
    "            \n"
   ]
  },
  {
   "cell_type": "code",
   "execution_count": 2,
   "metadata": {},
   "outputs": [
    {
     "name": "stdout",
     "output_type": "stream",
     "text": [
      "Mi nombre es Savana y mi id es 1\n",
      "mi edad es22\n",
      "Mi nombre es Dakota y mi id es 2\n",
      "mi edad es19\n"
     ]
    }
   ],
   "source": [
    "Savana = Employee('Savana',22)\n",
    "Savana.say_id()\n",
    "Savana.say_age()\n",
    "Dakota = Employee('Dakota',19)\n",
    "Dakota.say_id()\n",
    "Dakota.say_age()"
   ]
  }
 ],
 "metadata": {
  "kernelspec": {
   "display_name": "Python 3",
   "language": "python",
   "name": "python3"
  },
  "language_info": {
   "codemirror_mode": {
    "name": "ipython",
    "version": 3
   },
   "file_extension": ".py",
   "mimetype": "text/x-python",
   "name": "python",
   "nbconvert_exporter": "python",
   "pygments_lexer": "ipython3",
   "version": "3.12.1"
  }
 },
 "nbformat": 4,
 "nbformat_minor": 2
}
